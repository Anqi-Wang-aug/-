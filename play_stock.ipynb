{
 "cells": [
  {
   "cell_type": "code",
   "execution_count": 93,
   "metadata": {},
   "outputs": [
    {
     "name": "stdout",
     "output_type": "stream",
     "text": [
      "Requirement already satisfied: tushare in c:\\users\\huawei\\appdata\\local\\programs\\python\\python311\\lib\\site-packages (1.2.89)\n",
      "Requirement already satisfied: pandas in c:\\users\\huawei\\appdata\\local\\programs\\python\\python311\\lib\\site-packages (from tushare) (1.5.3)\n",
      "Requirement already satisfied: requests in c:\\users\\huawei\\appdata\\local\\programs\\python\\python311\\lib\\site-packages (from tushare) (2.28.2)\n",
      "Requirement already satisfied: lxml in c:\\users\\huawei\\appdata\\local\\programs\\python\\python311\\lib\\site-packages (from tushare) (4.9.2)\n",
      "Requirement already satisfied: simplejson in c:\\users\\huawei\\appdata\\local\\programs\\python\\python311\\lib\\site-packages (from tushare) (3.18.1)\n",
      "Requirement already satisfied: bs4 in c:\\users\\huawei\\appdata\\local\\programs\\python\\python311\\lib\\site-packages (from tushare) (0.0.1)\n",
      "Requirement already satisfied: websocket-client==0.57.0 in c:\\users\\huawei\\appdata\\local\\programs\\python\\python311\\lib\\site-packages (from tushare) (0.57.0)\n",
      "Requirement already satisfied: six in c:\\users\\huawei\\appdata\\roaming\\python\\python311\\site-packages (from websocket-client==0.57.0->tushare) (1.16.0)\n",
      "Requirement already satisfied: beautifulsoup4 in c:\\users\\huawei\\appdata\\local\\programs\\python\\python311\\lib\\site-packages (from bs4->tushare) (4.11.1)\n",
      "Requirement already satisfied: python-dateutil>=2.8.1 in c:\\users\\huawei\\appdata\\roaming\\python\\python311\\site-packages (from pandas->tushare) (2.8.2)\n",
      "Requirement already satisfied: pytz>=2020.1 in c:\\users\\huawei\\appdata\\local\\programs\\python\\python311\\lib\\site-packages (from pandas->tushare) (2022.7.1)\n",
      "Requirement already satisfied: numpy>=1.21.0 in c:\\users\\huawei\\appdata\\local\\programs\\python\\python311\\lib\\site-packages (from pandas->tushare) (1.23.5)\n",
      "Requirement already satisfied: charset-normalizer<4,>=2 in c:\\users\\huawei\\appdata\\local\\programs\\python\\python311\\lib\\site-packages (from requests->tushare) (3.0.1)\n",
      "Requirement already satisfied: idna<4,>=2.5 in c:\\users\\huawei\\appdata\\local\\programs\\python\\python311\\lib\\site-packages (from requests->tushare) (3.4)\n",
      "Requirement already satisfied: urllib3<1.27,>=1.21.1 in c:\\users\\huawei\\appdata\\local\\programs\\python\\python311\\lib\\site-packages (from requests->tushare) (1.26.14)\n",
      "Requirement already satisfied: certifi>=2017.4.17 in c:\\users\\huawei\\appdata\\local\\programs\\python\\python311\\lib\\site-packages (from requests->tushare) (2022.12.7)\n",
      "Requirement already satisfied: soupsieve>1.2 in c:\\users\\huawei\\appdata\\local\\programs\\python\\python311\\lib\\site-packages (from beautifulsoup4->bs4->tushare) (2.3.2.post1)\n",
      "Note: you may need to restart the kernel to use updated packages.\n"
     ]
    },
    {
     "name": "stderr",
     "output_type": "stream",
     "text": [
      "\n",
      "[notice] A new release of pip available: 22.3 -> 22.3.1\n",
      "[notice] To update, run: python.exe -m pip install --upgrade pip\n"
     ]
    }
   ],
   "source": [
    "pip install tushare"
   ]
  },
  {
   "cell_type": "code",
   "execution_count": 88,
   "metadata": {},
   "outputs": [],
   "source": [
    "import tushare as ts\n",
    "\n",
    "ts.set_token('1b1663b94af21feb0f3cf3c0dbc048f825d37c9074b0c1e00862407a')\n"
   ]
  },
  {
   "cell_type": "code",
   "execution_count": 89,
   "metadata": {},
   "outputs": [],
   "source": [
    "pro = ts.pro_api()"
   ]
  },
  {
   "cell_type": "code",
   "execution_count": 90,
   "metadata": {},
   "outputs": [],
   "source": [
    "df = pro.query('daily', ts_code='600519.SH', start_date='20190228', end_date='20210228')"
   ]
  },
  {
   "cell_type": "code",
   "execution_count": null,
   "metadata": {},
   "outputs": [],
   "source": [
    "figure, ax1 = plt.subplots()\n",
    "ax1.plot(df[df.columns[1]], df[df.columns[5]])"
   ]
  },
  {
   "cell_type": "code",
   "execution_count": null,
   "metadata": {},
   "outputs": [],
   "source": [
    "df.head()"
   ]
  },
  {
   "cell_type": "code",
   "execution_count": null,
   "metadata": {},
   "outputs": [],
   "source": [
    "print(df.dtypes)"
   ]
  },
  {
   "cell_type": "code",
   "execution_count": 84,
   "metadata": {},
   "outputs": [
    {
     "data": {
      "text/html": [
       "<div>\n",
       "<style scoped>\n",
       "    .dataframe tbody tr th:only-of-type {\n",
       "        vertical-align: middle;\n",
       "    }\n",
       "\n",
       "    .dataframe tbody tr th {\n",
       "        vertical-align: top;\n",
       "    }\n",
       "\n",
       "    .dataframe thead th {\n",
       "        text-align: right;\n",
       "    }\n",
       "</style>\n",
       "<table border=\"1\" class=\"dataframe\">\n",
       "  <thead>\n",
       "    <tr style=\"text-align: right;\">\n",
       "      <th></th>\n",
       "      <th>date</th>\n",
       "      <th>close</th>\n",
       "    </tr>\n",
       "  </thead>\n",
       "  <tbody>\n",
       "    <tr>\n",
       "      <th>0</th>\n",
       "      <td>20210226</td>\n",
       "      <td>2122.78</td>\n",
       "    </tr>\n",
       "    <tr>\n",
       "      <th>1</th>\n",
       "      <td>20210225</td>\n",
       "      <td>2150.00</td>\n",
       "    </tr>\n",
       "    <tr>\n",
       "      <th>2</th>\n",
       "      <td>20210224</td>\n",
       "      <td>2189.00</td>\n",
       "    </tr>\n",
       "    <tr>\n",
       "      <th>3</th>\n",
       "      <td>20210223</td>\n",
       "      <td>2307.00</td>\n",
       "    </tr>\n",
       "    <tr>\n",
       "      <th>4</th>\n",
       "      <td>20210222</td>\n",
       "      <td>2288.02</td>\n",
       "    </tr>\n",
       "  </tbody>\n",
       "</table>\n",
       "</div>"
      ],
      "text/plain": [
       "       date    close\n",
       "0  20210226  2122.78\n",
       "1  20210225  2150.00\n",
       "2  20210224  2189.00\n",
       "3  20210223  2307.00\n",
       "4  20210222  2288.02"
      ]
     },
     "execution_count": 84,
     "metadata": {},
     "output_type": "execute_result"
    }
   ],
   "source": [
    "import pandas as pd\n",
    "\n",
    "df2 = pd.DataFrame().assign(date=df['trade_date'], close=df['close'])\n",
    "df2.head()"
   ]
  },
  {
   "cell_type": "code",
   "execution_count": 85,
   "metadata": {},
   "outputs": [
    {
     "name": "stdout",
     "output_type": "stream",
     "text": [
      "date      object\n",
      "close    float64\n",
      "dtype: object\n"
     ]
    }
   ],
   "source": [
    "print(df2.dtypes)"
   ]
  },
  {
   "cell_type": "code",
   "execution_count": 86,
   "metadata": {},
   "outputs": [],
   "source": [
    "df2['date'] = df2['date'].astype('timedelta64')\n"
   ]
  },
  {
   "cell_type": "code",
   "execution_count": 87,
   "metadata": {},
   "outputs": [
    {
     "data": {
      "text/html": [
       "<div>\n",
       "<style scoped>\n",
       "    .dataframe tbody tr th:only-of-type {\n",
       "        vertical-align: middle;\n",
       "    }\n",
       "\n",
       "    .dataframe tbody tr th {\n",
       "        vertical-align: top;\n",
       "    }\n",
       "\n",
       "    .dataframe thead th {\n",
       "        text-align: right;\n",
       "    }\n",
       "</style>\n",
       "<table border=\"1\" class=\"dataframe\">\n",
       "  <thead>\n",
       "    <tr style=\"text-align: right;\">\n",
       "      <th></th>\n",
       "      <th>date</th>\n",
       "      <th>close</th>\n",
       "    </tr>\n",
       "  </thead>\n",
       "  <tbody>\n",
       "    <tr>\n",
       "      <th>481</th>\n",
       "      <td>0 days 00:00:00.020190306</td>\n",
       "      <td>768.00</td>\n",
       "    </tr>\n",
       "    <tr>\n",
       "      <th>482</th>\n",
       "      <td>0 days 00:00:00.020190305</td>\n",
       "      <td>779.78</td>\n",
       "    </tr>\n",
       "    <tr>\n",
       "      <th>483</th>\n",
       "      <td>0 days 00:00:00.020190304</td>\n",
       "      <td>781.86</td>\n",
       "    </tr>\n",
       "    <tr>\n",
       "      <th>484</th>\n",
       "      <td>0 days 00:00:00.020190301</td>\n",
       "      <td>789.30</td>\n",
       "    </tr>\n",
       "    <tr>\n",
       "      <th>485</th>\n",
       "      <td>0 days 00:00:00.020190228</td>\n",
       "      <td>755.01</td>\n",
       "    </tr>\n",
       "  </tbody>\n",
       "</table>\n",
       "</div>"
      ],
      "text/plain": [
       "                         date   close\n",
       "481 0 days 00:00:00.020190306  768.00\n",
       "482 0 days 00:00:00.020190305  779.78\n",
       "483 0 days 00:00:00.020190304  781.86\n",
       "484 0 days 00:00:00.020190301  789.30\n",
       "485 0 days 00:00:00.020190228  755.01"
      ]
     },
     "execution_count": 87,
     "metadata": {},
     "output_type": "execute_result"
    }
   ],
   "source": [
    "df2.tail()"
   ]
  }
 ],
 "metadata": {
  "kernelspec": {
   "display_name": "Python 3",
   "language": "python",
   "name": "python3"
  },
  "language_info": {
   "codemirror_mode": {
    "name": "ipython",
    "version": 3
   },
   "file_extension": ".py",
   "mimetype": "text/x-python",
   "name": "python",
   "nbconvert_exporter": "python",
   "pygments_lexer": "ipython3",
   "version": "3.11.0"
  },
  "orig_nbformat": 4,
  "vscode": {
   "interpreter": {
    "hash": "27fbe598a80c9a8471ecbece4ba0e2afb9e8ac1135b60ed6cdc81a4f27ae89ec"
   }
  }
 },
 "nbformat": 4,
 "nbformat_minor": 2
}
